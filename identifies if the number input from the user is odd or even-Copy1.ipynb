{
 "cells": [
  {
   "cell_type": "code",
   "execution_count": null,
   "id": "53e74d9c",
   "metadata": {},
   "outputs": [],
   "source": [
    "num = input(\"enter a number\")\n",
    "if num == \"a\" or num == \"b\" or num == \"c\":\n",
    "    print(\"You entered a alphabat not number\")\n",
    "elif num==\"1\" or num == \"2\":\n",
    "    num1 = int(num)\n",
    "    result = int(num1%2)\n",
    "elif result == 0:\n",
    "    print('you entered a even number')\n",
    "else:\n",
    "    print(\"you entered a odd number\")"
   ]
  }
 ],
 "metadata": {
  "kernelspec": {
   "display_name": "Python 3",
   "language": "python",
   "name": "python3"
  },
  "language_info": {
   "codemirror_mode": {
    "name": "ipython",
    "version": 3
   },
   "file_extension": ".py",
   "mimetype": "text/x-python",
   "name": "python",
   "nbconvert_exporter": "python",
   "pygments_lexer": "ipython3",
   "version": "3.8.8"
  }
 },
 "nbformat": 4,
 "nbformat_minor": 5
}
