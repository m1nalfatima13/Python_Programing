{
 "cells": [
  {
   "cell_type": "code",
   "execution_count": null,
   "id": "80faf5e6",
   "metadata": {},
   "outputs": [],
   "source": [
    "num1 = int(input(\"eneter one number\"))\n",
    "num2 = int(input(\"enter secound number\"))\n",
    "class Calculator:\n",
    "    def __init__(num1, num2):\n",
    "        print(num1+num2)\n",
    "    def div(num1, num2):\n",
    "        print(num1/ num2)\n",
    "    def sub(num1,num2):\n",
    "        print(num1 - num2)\n",
    "    def mul(num1, num2):\n",
    "        print(num1 * num2)\n",
    "Calculator()\n",
    "div()\n",
    "sub()\n",
    "mul()"
   ]
  }
 ],
 "metadata": {
  "kernelspec": {
   "display_name": "Python 3",
   "language": "python",
   "name": "python3"
  },
  "language_info": {
   "codemirror_mode": {
    "name": "ipython",
    "version": 3
   },
   "file_extension": ".py",
   "mimetype": "text/x-python",
   "name": "python",
   "nbconvert_exporter": "python",
   "pygments_lexer": "ipython3",
   "version": "3.8.8"
  }
 },
 "nbformat": 4,
 "nbformat_minor": 5
}
