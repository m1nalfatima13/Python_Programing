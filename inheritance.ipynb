{
 "cells": [
  {
   "cell_type": "code",
   "execution_count": null,
   "id": "94ad1aeb",
   "metadata": {},
   "outputs": [],
   "source": [
    "class Total_cost():\n",
    "    def __init__(self):\n",
    "        self.fruit_money = 20\n",
    "        self.vegetable_money = 15\n",
    "        self.snacks_money = 30\n",
    "        \n",
    "    def cost(self):\n",
    "        print(f\"the total cost:   {self.fruit_money +self.vegetable_money + self.snacks_money} $\")\n",
    "        return self.fruit_money \n",
    "        return self.vegetable_money\n",
    "        return self.snacks_money \n",
    "obj2 = Total_cost()\n",
    "new = obj2.cost()\n",
    "\n",
    "\n",
    "class Grocery(Total_cost):\n",
    "\n",
    "    def check_list(self, new):\n",
    "        print(f\"cost of each: fruits= {self.fruit_money}, vegetables = {self.vegetable_money}, snacks = {self.snacks_money} \" )\n",
    "        \n",
    "obj1 = Grocery()\n",
    "obj1.check_list(new)"
   ]
  },
  {
   "cell_type": "code",
   "execution_count": null,
   "id": "7d6904e6",
   "metadata": {},
   "outputs": [],
   "source": [
    "class Building():\n",
    "    def __init__(self):\n",
    "        self.ground = \"ali\"\n",
    "# obj1 = Building()\n",
    "# ground = obj1.ground\n",
    "class New_resident(Building):\n",
    "    def __init__(self, new):\n",
    "        self.new = new\n",
    "        super().__init__()\n",
    "    def new_resident(self):\n",
    "        print(f\"old resident who lived on the ground floor was {self.ground}, new resident = {self.new} lives in the third floor\")\n",
    "abc =  New_resident(\"anas\")\n",
    "abc.new_resident()\n",
    "        "
   ]
  },
  {
   "cell_type": "code",
   "execution_count": null,
   "id": "6d8e1906",
   "metadata": {},
   "outputs": [],
   "source": [
    "class Animal():\n",
    "    def __init__(self, name):\n",
    "        self.name = name\n",
    "    \n",
    "class Type(Animal):\n",
    "    def __init__(self):\n",
    "        super().__init__(\"dog\")\n",
    "        print(self.name)\n",
    "obj = Type()\n",
    "        "
   ]
  },
  {
   "cell_type": "code",
   "execution_count": null,
   "id": "223744c1",
   "metadata": {},
   "outputs": [],
   "source": [
    "class Animal():\n",
    "    def __init__(self, animal):\n",
    "        print(animal, \"this is the type of animal\")\n",
    "class New(Animal):\n",
    "    def __init__(self):\n",
    "        print(\"dog are friendly\")\n",
    "        super().__init__(\"dog\")\n",
    "obj = New()"
   ]
  },
  {
   "cell_type": "code",
   "execution_count": null,
   "id": "7cfdf387",
   "metadata": {},
   "outputs": [],
   "source": []
  }
 ],
 "metadata": {
  "kernelspec": {
   "display_name": "Python 3",
   "language": "python",
   "name": "python3"
  },
  "language_info": {
   "codemirror_mode": {
    "name": "ipython",
    "version": 3
   },
   "file_extension": ".py",
   "mimetype": "text/x-python",
   "name": "python",
   "nbconvert_exporter": "python",
   "pygments_lexer": "ipython3",
   "version": "3.8.8"
  }
 },
 "nbformat": 4,
 "nbformat_minor": 5
}
