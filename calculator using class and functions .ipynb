{
 "cells": [
  {
   "cell_type": "code",
   "execution_count": null,
   "id": "5c288a19",
   "metadata": {},
   "outputs": [],
   "source": [
    "class Calculator:\n",
    "    def __init__(self, num1, num2):\n",
    "        self.num1 = num1\n",
    "        self.num2 = num2\n",
    "    def add(self):\n",
    "        print(num1 + num2)\n",
    "    def sub( self):\n",
    "        print(num1 - num2)\n",
    "    def div(self):\n",
    "        print(num1/num2)\n",
    "    def mul(self):\n",
    "        print(num1*num2)\n",
    "#num1 = int(input(\"first num:\"))\n",
    "#num2 = int(input(\"secound num: \"))\n",
    "value = Calculator(\"4\",\"4\")\n",
    "value.num1\n",
    "value.sub()\n",
    "#value.div()\n",
    "#value.mul()"
   ]
  }
 ],
 "metadata": {
  "kernelspec": {
   "display_name": "Python 3",
   "language": "python",
   "name": "python3"
  },
  "language_info": {
   "codemirror_mode": {
    "name": "ipython",
    "version": 3
   },
   "file_extension": ".py",
   "mimetype": "text/x-python",
   "name": "python",
   "nbconvert_exporter": "python",
   "pygments_lexer": "ipython3",
   "version": "3.8.8"
  }
 },
 "nbformat": 4,
 "nbformat_minor": 5
}
