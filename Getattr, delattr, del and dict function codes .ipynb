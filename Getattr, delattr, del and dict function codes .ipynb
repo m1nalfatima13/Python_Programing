{
 "cells": [
  {
   "cell_type": "code",
   "execution_count": null,
   "id": "21855697",
   "metadata": {},
   "outputs": [],
   "source": [
    "#getattr code\n",
    "class Student():\n",
    "    firstname = \"ali\"\n",
    "    last_name = \"ahmed\"\n",
    "obj = Student()\n",
    "new = getattr(obj,'firstname')\n",
    "print(\"first name is \", new)"
   ]
  },
  {
   "cell_type": "code",
   "execution_count": null,
   "id": "ed382ff1",
   "metadata": {},
   "outputs": [],
   "source": [
    "#getaatr code\n",
    "class Car():\n",
    "    name = \"civic\"\n",
    "    Price = \"2 million\"\n",
    "detail = Car()\n",
    "new = getattr(detail,'name')\n",
    "print(new)\n"
   ]
  },
  {
   "cell_type": "code",
   "execution_count": null,
   "id": "5a36a224",
   "metadata": {},
   "outputs": [],
   "source": [
    "#getattr code\n",
    "class Teacher():\n",
    "    def __init__(self, first_name, last_name):\n",
    "        self.first_name = first_name\n",
    "        self.last_name = last_name\n",
    "\n",
    "obj = Teacher(\"ali\", \"ahmed\")\n",
    "print(getattr(obj, \"first_name\"))\n",
    "print(getattr(obj, \"last_name\"))"
   ]
  },
  {
   "cell_type": "code",
   "execution_count": 2,
   "id": "95465f22",
   "metadata": {},
   "outputs": [
    {
     "name": "stdout",
     "output_type": "stream",
     "text": [
      "ali\n",
      "ali\n"
     ]
    },
    {
     "ename": "AttributeError",
     "evalue": "'newTeacher' object has no attribute 'name'",
     "output_type": "error",
     "traceback": [
      "\u001b[1;31m---------------------------------------------------------------------------\u001b[0m",
      "\u001b[1;31mAttributeError\u001b[0m                            Traceback (most recent call last)",
      "\u001b[1;32m<ipython-input-2-f08c03c713ca>\u001b[0m in \u001b[0;36m<module>\u001b[1;34m\u001b[0m\n\u001b[0;32m      9\u001b[0m \u001b[0mprint\u001b[0m\u001b[1;33m(\u001b[0m\u001b[0mnew\u001b[0m\u001b[1;33m.\u001b[0m\u001b[0mname\u001b[0m\u001b[1;33m)\u001b[0m\u001b[1;33m\u001b[0m\u001b[1;33m\u001b[0m\u001b[0m\n\u001b[0;32m     10\u001b[0m \u001b[1;32mdel\u001b[0m \u001b[0mnew\u001b[0m\u001b[1;33m.\u001b[0m\u001b[0mname\u001b[0m\u001b[1;33m\u001b[0m\u001b[1;33m\u001b[0m\u001b[0m\n\u001b[1;32m---> 11\u001b[1;33m \u001b[0mprint\u001b[0m\u001b[1;33m(\u001b[0m\u001b[0mnew\u001b[0m\u001b[1;33m.\u001b[0m\u001b[0mname\u001b[0m\u001b[1;33m)\u001b[0m\u001b[1;33m\u001b[0m\u001b[1;33m\u001b[0m\u001b[0m\n\u001b[0m",
      "\u001b[1;31mAttributeError\u001b[0m: 'newTeacher' object has no attribute 'name'"
     ]
    }
   ],
   "source": [
    "#del function code\n",
    "class newTeacher():\n",
    "    def __init__(self):\n",
    "        self.name = \"ali\"\n",
    "    def display(self):\n",
    "        print(self.name)\n",
    "new = newTeacher()\n",
    "new.display()\n",
    "print(new.name)\n",
    "del new.name\n",
    "print(new.name)"
   ]
  },
  {
   "cell_type": "code",
   "execution_count": null,
   "id": "1f34b9e3",
   "metadata": {},
   "outputs": [],
   "source": [
    "#dict function code\n",
    "class Student():\n",
    "    def __init__(self, first_name, last_name):\n",
    "        self.first_name = first_name\n",
    "        self.last_name = last_name\n",
    "    def show(self):\n",
    "        print(self.first_name, self.last_name)\n",
    "lib = Student(\"ali\", \"bilal\")\n",
    "lib.show()\n",
    "new = Student(\"anas\", \"malik\")\n",
    "new.show()\n",
    "for value in lib.__dict__:\n",
    "    print(value)"
   ]
  },
  {
   "cell_type": "code",
   "execution_count": 3,
   "id": "83b38321",
   "metadata": {},
   "outputs": [
    {
     "name": "stdout",
     "output_type": "stream",
     "text": [
      "corola :\n",
      "germany :\n",
      "1980 :\n",
      "model_name\n",
      "place_from\n",
      "since_when\n"
     ]
    },
    {
     "ename": "AttributeError",
     "evalue": "'Car' object has no attribute 'model_name'",
     "output_type": "error",
     "traceback": [
      "\u001b[1;31m---------------------------------------------------------------------------\u001b[0m",
      "\u001b[1;31mAttributeError\u001b[0m                            Traceback (most recent call last)",
      "\u001b[1;32m<ipython-input-3-9a85fa2c59d3>\u001b[0m in \u001b[0;36m<module>\u001b[1;34m\u001b[0m\n\u001b[0;32m     15\u001b[0m \u001b[1;33m\u001b[0m\u001b[0m\n\u001b[0;32m     16\u001b[0m \u001b[1;32mdel\u001b[0m \u001b[0mparts\u001b[0m\u001b[1;33m.\u001b[0m\u001b[0mmodel_name\u001b[0m\u001b[1;33m\u001b[0m\u001b[1;33m\u001b[0m\u001b[0m\n\u001b[1;32m---> 17\u001b[1;33m \u001b[0mprint\u001b[0m\u001b[1;33m(\u001b[0m\u001b[0mparts\u001b[0m\u001b[1;33m.\u001b[0m\u001b[0mmodel_name\u001b[0m\u001b[1;33m)\u001b[0m\u001b[1;33m\u001b[0m\u001b[1;33m\u001b[0m\u001b[0m\n\u001b[0m\u001b[0;32m     18\u001b[0m \u001b[1;33m\u001b[0m\u001b[0m\n\u001b[0;32m     19\u001b[0m \u001b[0mdelattr\u001b[0m\u001b[1;33m(\u001b[0m\u001b[0mparts\u001b[0m\u001b[1;33m.\u001b[0m\u001b[0msince_when\u001b[0m\u001b[1;33m)\u001b[0m\u001b[1;33m\u001b[0m\u001b[1;33m\u001b[0m\u001b[0m\n",
      "\u001b[1;31mAttributeError\u001b[0m: 'Car' object has no attribute 'model_name'"
     ]
    }
   ],
   "source": [
    "#dict,del and delattr functions code\n",
    "class Car():\n",
    "    def __init__(self):\n",
    "        self.model_name = \"corola\"\n",
    "        self.place_from = \"germany\"\n",
    "        self.since_when = \"1980\"\n",
    "        \n",
    "parts = Car()\n",
    "print(parts.model_name, \":\")\n",
    "print(parts.place_from, \":\")\n",
    "print(parts.since_when, \":\")\n",
    "\n",
    "for detail in parts.__dict__:\n",
    "    print(detail)\n",
    "    \n",
    "\n",
    "del parts.model_name\n",
    "print(parts.model_name)\n",
    "\n",
    "delattr(parts.since_when)\n",
    "print(parts.since_when)"
   ]
  },
  {
   "cell_type": "code",
   "execution_count": null,
   "id": "c91520a4",
   "metadata": {},
   "outputs": [],
   "source": []
  }
 ],
 "metadata": {
  "kernelspec": {
   "display_name": "Python 3",
   "language": "python",
   "name": "python3"
  },
  "language_info": {
   "codemirror_mode": {
    "name": "ipython",
    "version": 3
   },
   "file_extension": ".py",
   "mimetype": "text/x-python",
   "name": "python",
   "nbconvert_exporter": "python",
   "pygments_lexer": "ipython3",
   "version": "3.8.8"
  }
 },
 "nbformat": 4,
 "nbformat_minor": 5
}
