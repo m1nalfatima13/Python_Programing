{
 "cells": [
  {
   "cell_type": "code",
   "execution_count": 1,
   "id": "3b8a9e06",
   "metadata": {},
   "outputs": [
    {
     "name": "stdout",
     "output_type": "stream",
     "text": [
      " first name = ali, last name = ahmed, father name = hassan and age = 15\n"
     ]
    }
   ],
   "source": [
    "class Student_data():\n",
    "    def __init__(self, first_name, last_name, father_name, age):\n",
    "        self.first_name = first_name\n",
    "        self.last_name = last_name\n",
    "        self.father_name = father_name\n",
    "        self.age = age\n",
    "        \n",
    "    def display_student(self):\n",
    "        print(f\" first name = {self.first_name}, last name = {self.last_name}, father name = {self.father_name} and age = {self.age}\")\n",
    "        \n",
    "   # def teacher(self, added, classes, joining, qualification):\n",
    "   #     self.teacher_first_name = first_name\n",
    "    #    self.last_name = last_name\n",
    "     #   self.last_name1 = last_name1\n",
    "      #  self.father_name1 = father_name1\n",
    "       # self.age1 = age1\n",
    "     #   added.classes = classes\n",
    "      #  added.joining = joining\n",
    "       # added.qualificaton = qualification\n",
    "    #def display_teacher(self, added):\n",
    "     #   print(f\" first name = {self.first_name1}, last name = {self.last_name1}, father name = {self.father_name1} and age = {self.age1}\")\n",
    "      #  print(f\"classes taught {added.classes}, joined school since {added.joining}, qualification {added.qualification} \"\n",
    "        \n",
    "        \n",
    "data = Student_data(\"ali\",\"ahmed\",\"hassan\",\"15\")\n",
    "data.display_student()\n",
    "#data2 = teacher(\"marium\", \"jawad\", \"mosin\", \"28\", \"5\", \"masters in computer scince\")\n",
    "#data2.display_teacher()            "
   ]
  },
  {
   "cell_type": "code",
   "execution_count": null,
   "id": "68009661",
   "metadata": {},
   "outputs": [],
   "source": []
  }
 ],
 "metadata": {
  "kernelspec": {
   "display_name": "Python 3",
   "language": "python",
   "name": "python3"
  },
  "language_info": {
   "codemirror_mode": {
    "name": "ipython",
    "version": 3
   },
   "file_extension": ".py",
   "mimetype": "text/x-python",
   "name": "python",
   "nbconvert_exporter": "python",
   "pygments_lexer": "ipython3",
   "version": "3.8.8"
  }
 },
 "nbformat": 4,
 "nbformat_minor": 5
}
