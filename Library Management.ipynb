{
 "cells": [
  {
   "cell_type": "code",
   "execution_count": 6,
   "id": "238d70b2",
   "metadata": {},
   "outputs": [
    {
     "name": "stdout",
     "output_type": "stream",
     "text": [
      "ab df\n",
      "as fd\n",
      "re yt\n"
     ]
    }
   ],
   "source": [
    "class Emplyee():\n",
    "    def __init__(self,first_name, last_name):\n",
    "        self.first_name = first_name\n",
    "        self.last_name = last_name\n",
    "    def display(self):\n",
    "        print(self.first_name, self.last_name)\n",
    "        \n",
    "emplyee124 = Emplyee(\"ab\", \"df\")\n",
    "emplyee124.display()\n",
    "emplyee124 = Emplyee(\"as\", \"fd\")\n",
    "emplyee124.display()\n",
    "emplyee124 = Emplyee(\"re\", \"yt\")\n",
    "emplyee124.display()"
   ]
  },
  {
   "cell_type": "code",
   "execution_count": null,
   "id": "13b449df",
   "metadata": {},
   "outputs": [],
   "source": []
  }
 ],
 "metadata": {
  "kernelspec": {
   "display_name": "Python 3",
   "language": "python",
   "name": "python3"
  },
  "language_info": {
   "codemirror_mode": {
    "name": "ipython",
    "version": 3
   },
   "file_extension": ".py",
   "mimetype": "text/x-python",
   "name": "python",
   "nbconvert_exporter": "python",
   "pygments_lexer": "ipython3",
   "version": "3.8.8"
  }
 },
 "nbformat": 4,
 "nbformat_minor": 5
}
