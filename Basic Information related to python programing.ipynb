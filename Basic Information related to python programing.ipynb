{
 "cells": [
  {
   "cell_type": "code",
   "execution_count": null,
   "id": "8ac2abc1",
   "metadata": {},
   "outputs": [],
   "source": [
    "# IDE: integrated development environment, is software for building applications that combines common developer tools into a single GUI.\n",
    "\n",
    "# GUI: Graphical user interface, A graphics-based operating system interface that uses icons, menus and a mouse to manage interaction with the system.\n",
    "\n",
    "# Intialtization ex:  a = 5 where a is a veriable and = assignment oprator and 5 is a value\n"
   ]
  }
 ],
 "metadata": {
  "kernelspec": {
   "display_name": "Python 3",
   "language": "python",
   "name": "python3"
  },
  "language_info": {
   "codemirror_mode": {
    "name": "ipython",
    "version": 3
   },
   "file_extension": ".py",
   "mimetype": "text/x-python",
   "name": "python",
   "nbconvert_exporter": "python",
   "pygments_lexer": "ipython3",
   "version": "3.8.8"
  }
 },
 "nbformat": 4,
 "nbformat_minor": 5
}
